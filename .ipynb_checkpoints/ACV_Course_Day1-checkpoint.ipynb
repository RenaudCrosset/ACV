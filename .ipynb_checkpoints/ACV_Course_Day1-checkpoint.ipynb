{
 "cells": [
  {
   "cell_type": "markdown",
   "metadata": {},
   "source": [
    "<div><p style=\"text-align:center; color:blue; font-size:26px; font-style:italic;\">Advanced Computer Vision Course</p><div/>\n",
    "<div align=right>Etienne Balt<div/>"
   ]
  },
  {
   "cell_type": "markdown",
   "metadata": {},
   "source": [
    "<code>conda create -n opencv python==3.7</code><br>\n",
    "<code>pip install opencv-contrib-python</code>"
   ]
  },
  {
   "cell_type": "markdown",
   "metadata": {},
   "source": [
    "<div class=\"alert alert-block alert-danger\"><b>Objectif du module : </b>\n",
    "   \n",
    "Attention utiliser commande <code>which</code> pour déterminer si pip install correspond au pip de notre environnement conda sinon la bibliothèque ne sera pas installée dans l’environnement.<br>\n",
    "Conseil : faire un deactivate pour complètement sortir de conda au préalable.</div>"
   ]
  },
  {
   "cell_type": "markdown",
   "metadata": {
    "id": "99knUsbUjGcj"
   },
   "source": [
    "## Overview :\n",
    "Main goal of the course: learn how to manipulate and analyse images OpenCV, focused on skills needed for computer vision outside of machine learning methods.\n",
    "\n",
    "We start by 2 days on image processing and manipulation :\n",
    "- Day 1 : Basics of image processing in OpenCV\n",
    "- Day 2 : Advanced image manipulation"
   ]
  },
  {
   "cell_type": "markdown",
   "metadata": {
    "id": "imBDnfexltBM"
   },
   "source": [
    "## Program for today\n",
    "\n",
    "### Morning: Interactive course\n",
    "* Image input/output\n",
    "* Manipulating pixels\n",
    "* Color spaces\n",
    "* Blurring images\n",
    "* Edge detection\n",
    "* Morphological operations\n",
    "* Thresholding"
   ]
  },
  {
   "cell_type": "markdown",
   "metadata": {
    "id": "NAU903b7pBSd"
   },
   "source": [
    "### Afternoon: Start of the project\n",
    "**General goal**\n",
    "\n",
    "Build a webcam filter app like PhotoBooth on Mac OS (demo)\n",
    "\n",
    "**Today's goals**\n",
    "\n",
    "Develop some filters:\n",
    "* Mirror\n",
    "* Glow\n",
    "* Sepia\n",
    "* Black and white\n",
    "* X-Ray\n",
    "* Cartoon\n",
    "* Bonus: Drawing\n",
    "* Bonus: Thermal camera"
   ]
  },
  {
   "cell_type": "markdown",
   "metadata": {
    "id": "jbHDC3SFiedW",
    "nbpresent": {
     "id": "a1921d95-f5ce-41d6-b399-9a7c5af9cb3c"
    }
   },
   "source": [
    "## Why OpenCV\n",
    "\n",
    "* OpenCV = Open Computer Vision Library\n",
    "* Vision, image & video processing, and machine learning libraries rolled into one\n",
    "* Multiplatform and multilanguage\n",
    "* Free and open source\n",
    "* Used by basically everyone working on Computer Vision"
   ]
  },
  {
   "cell_type": "markdown",
   "metadata": {
    "id": "MhOmEscZiedW",
    "nbpresent": {
     "id": "d3975a40-18ac-4026-8a39-b4157cc21d53"
    }
   },
   "source": [
    "**Applications**\n",
    "\n",
    "* Tracking and identifying objects (including humans)\n",
    "* Tracking camera motion\n",
    "* 3D model reconstruction\n",
    "* Search by image\n",
    "* And much more"
   ]
  },
  {
   "cell_type": "markdown",
   "metadata": {
    "id": "kdhbYts5iedX",
    "nbpresent": {
     "id": "213eb2b0-b658-46ce-a72f-215a82c5cc7c"
    }
   },
   "source": [
    "**Examples of industrial use cases**\n",
    "* Stitching streetview images together\n",
    "* Monitoring mine equipment in China \n",
    "* Helping robots navigate and pick up objects at Willow Garage\n",
    "* Detection of swimming pool drowning accidents in Europe\n",
    "* Running interactive art in Spain and New York\n",
    "* Checking runways for debris in Turkey\n",
    "* Inspecting labels on products in factories around the world\n",
    "* Rapid face detection in Japan\n",
    "\n",
    "http://opencv.org/about.html"
   ]
  },
  {
   "cell_type": "markdown",
   "metadata": {
    "id": "shSC-S0tqmZm"
   },
   "source": [
    "### Useful ressources\n",
    "\n",
    "Reference:\n",
    "https://docs.opencv.org/4.6.0/\n",
    "\n",
    "Tutorials:\n",
    "https://docs.opencv.org/4.6.0/d6/d00/tutorial_py_root.html\n",
    "\n",
    "Community:\n",
    "http://stackoverflow.com/questions/tagged/opencv"
   ]
  },
  {
   "cell_type": "markdown",
   "metadata": {
    "id": "JNSk6GfTwmDq"
   },
   "source": [
    "## Preparation\n",
    "\n",
    "We will use Colab and we will need to download and unzip some files that we will use along the course.\n",
    "\n",
    "Colab does not keep the files between sessions, so you will probably need to redownload it each time."
   ]
  },
  {
   "cell_type": "code",
   "execution_count": null,
   "metadata": {
    "id": "djLFWrAGxHQq"
   },
   "outputs": [],
   "source": [
    "# as we finally don't use collab we comment this : \n",
    "# %%capture\n",
    "# !unzip -o day1.zip"
   ]
  },
  {
   "cell_type": "markdown",
   "metadata": {
    "id": "z_48su4Siedc",
    "nbpresent": {
     "id": "7fb97c5e-4092-4e4e-8023-b795f49791da"
    }
   },
   "source": [
    "Essential utility commands"
   ]
  },
  {
   "cell_type": "code",
   "execution_count": null,
   "metadata": {
    "id": "hPpIwKaaiedc",
    "nbpresent": {
     "id": "e0937ba9-ac52-4500-9355-f809320da00f"
    }
   },
   "outputs": [],
   "source": [
    "%matplotlib inline\n",
    "\n",
    "from matplotlib import pyplot as plt\n",
    "plt.rcParams['figure.figsize'] = [15, 10]  # Make inline plots larger\n",
    "\n",
    "import numpy as np\n",
    "import cv2"
   ]
  },
  {
   "cell_type": "code",
   "execution_count": null,
   "metadata": {
    "colab": {
     "base_uri": "https://localhost:8080/",
     "height": 35
    },
    "id": "KUuFw8SifRRj",
    "outputId": "df3e1f08-7935-4d24-e405-db0bead302ce"
   },
   "outputs": [],
   "source": [
    "cv2.__version__"
   ]
  },
  {
   "cell_type": "markdown",
   "metadata": {
    "id": "_vTGcIMryjx2"
   },
   "source": [
    "Because we are using Colab, we will need a patch to display images"
   ]
  },
  {
   "cell_type": "code",
   "execution_count": null,
   "metadata": {
    "id": "DWuAZ8YdyiW8"
   },
   "outputs": [],
   "source": [
    "# as we finally don't use collab we comment this : \n",
    "# from google.colab.patches import cv2_imshow\n",
    "# cv2.imshow = lambda title,im: cv2_imshow(im)"
   ]
  },
  {
   "cell_type": "markdown",
   "metadata": {
    "id": "h1yIlE5Hiedd",
    "nbpresent": {
     "id": "912cb702-4e13-45e3-be96-8ca5bb075111"
    }
   },
   "source": [
    "## Image input/output \n",
    "### Reading and displaying image with numpy/matplot"
   ]
  },
  {
   "cell_type": "code",
   "execution_count": null,
   "metadata": {
    "colab": {
     "base_uri": "https://localhost:8080/",
     "height": 612
    },
    "id": "5BFV2l5niedd",
    "nbpresent": {
     "id": "b6b7891d-3c45-408b-b1e0-9ff049e33104"
    },
    "outputId": "800eedcf-21b1-40c9-af65-191b7ab4bdfc"
   },
   "outputs": [],
   "source": [
    "im2disp = plt.imread('data/home.jpg', format='JPG')\n",
    "plt.figure()\n",
    "plt.imshow(im2disp)"
   ]
  },
  {
   "cell_type": "markdown",
   "metadata": {
    "id": "B65XKuYqiede",
    "nbpresent": {
     "id": "fcdb542e-a920-41f2-9b8b-a6fe3b47f4a4"
    }
   },
   "source": [
    "### Now the OpenCV way"
   ]
  },
  {
   "cell_type": "code",
   "execution_count": null,
   "metadata": {
    "colab": {
     "base_uri": "https://localhost:8080/",
     "height": 401
    },
    "id": "tXZpzVftiede",
    "nbpresent": {
     "id": "ae7b3af1-e0c2-4011-8fb6-ae6794c5dfa9"
    },
    "outputId": "ab60beec-1abe-4a6d-d88e-40841dc61aa5"
   },
   "outputs": [],
   "source": [
    "cvim2disp = cv2.imread('data/home.jpg')\n",
    "cv2.imshow('HelloWorld', cvim2disp)"
   ]
  },
  {
   "cell_type": "markdown",
   "metadata": {
    "id": "UJ6dd7Ssiedf",
    "nbpresent": {
     "id": "0a2e56df-667e-41b7-a35f-fb58ddaf997b"
    }
   },
   "source": [
    "### Are numpy.imshow and cv2.imshow the same?"
   ]
  },
  {
   "cell_type": "code",
   "execution_count": null,
   "metadata": {
    "colab": {
     "base_uri": "https://localhost:8080/",
     "height": 612
    },
    "id": "chSogn5iiedf",
    "nbpresent": {
     "id": "aa164811-7136-40e4-8093-31a0a67b944f"
    },
    "outputId": "923ae377-4994-4607-d499-a0c6d6942b73"
   },
   "outputs": [],
   "source": [
    "plt.figure()\n",
    "plt.imshow(cvim2disp);"
   ]
  },
  {
   "cell_type": "markdown",
   "metadata": {
    "id": "daJptg6Aiedf",
    "nbpresent": {
     "id": "45a597e1-1a3d-4e04-b570-92fb942bbbc8"
    }
   },
   "source": [
    "**What happened??**\n",
    "\n",
    "For historical reasons, OpenCV defaults to BGR format instead of usual RGB\n",
    "\n",
    "**Solutions:**\n",
    "\n",
    "Use matplotlib/OpenCV consistently\n",
    "\n",
    "or make sure to convert"
   ]
  },
  {
   "cell_type": "code",
   "execution_count": null,
   "metadata": {
    "colab": {
     "base_uri": "https://localhost:8080/"
    },
    "id": "b7tZJ6s5mTQ-",
    "outputId": "bab396fc-0af2-4bd3-e906-ee96d8b5d256"
   },
   "outputs": [],
   "source": [
    " cv2.COLOR_BGR2RGB"
   ]
  },
  {
   "cell_type": "code",
   "execution_count": null,
   "metadata": {
    "colab": {
     "base_uri": "https://localhost:8080/",
     "height": 509
    },
    "id": "R1Inorpciedg",
    "nbpresent": {
     "id": "dfa4b5ff-7f56-4a23-84b4-af0ac0e890ca"
    },
    "outputId": "5a5c6202-eee4-45eb-c3ea-aef4449975fd"
   },
   "outputs": [],
   "source": [
    "cvimrgb = cv2.cvtColor(cvim2disp, cv2.COLOR_BGR2RGB)\n",
    "\n",
    "#or\n",
    "#imbgr = cv2.cvtColor(im2disp,cv2.COLOR_RGB2BGR)\n",
    "\n",
    "plt.figure()\n",
    "plt.imshow(cvimrgb);"
   ]
  },
  {
   "cell_type": "markdown",
   "metadata": {
    "id": "RpeDRRvE2IsW"
   },
   "source": [
    "### Other color spaces (HSL, HSV, etc.)"
   ]
  },
  {
   "cell_type": "code",
   "execution_count": null,
   "metadata": {
    "colab": {
     "base_uri": "https://localhost:8080/",
     "height": 612
    },
    "id": "NkTo4ngC2VKb",
    "outputId": "4c1ecbb3-3ff7-4f6f-ca62-2b91bd82c3d4"
   },
   "outputs": [],
   "source": [
    "cvimhsv = cv2.cvtColor(cvim2disp, cv2.COLOR_BGR2HSV)\n",
    "\n",
    "plt.figure()\n",
    "plt.imshow(cvimhsv);"
   ]
  },
  {
   "cell_type": "markdown",
   "metadata": {
    "id": "jkKJsHCu3ghz"
   },
   "source": [
    "**Why does it look like this?**\n",
    "\n",
    "HSV = Hue, Saturation, Value\n",
    "\n",
    "https://en.wikipedia.org/wiki/HSL_and_HSV\n"
   ]
  },
  {
   "cell_type": "code",
   "execution_count": null,
   "metadata": {
    "colab": {
     "base_uri": "https://localhost:8080/",
     "height": 1000
    },
    "id": "LR4D55Vi4bFs",
    "outputId": "4ba53a71-4109-498a-fb1d-0163505d049c",
    "scrolled": false
   },
   "outputs": [],
   "source": [
    "plt.figure()\n",
    "plt.title('Hue')\n",
    "plt.imshow(cvimhsv[:, :, 0], cmap='gray')\n",
    "\n",
    "plt.figure()\n",
    "plt.title('Saturation')\n",
    "plt.imshow(cvimhsv[:, :, 1], cmap='gray')\n",
    "\n",
    "plt.figure()\n",
    "plt.title('Value (~= Luminosity)')\n",
    "plt.imshow(cvimhsv[:, :, 2], cmap='gray');"
   ]
  },
  {
   "cell_type": "markdown",
   "metadata": {
    "id": "uupvWQMviedh"
   },
   "source": [
    "### Simple filtering example"
   ]
  },
  {
   "cell_type": "code",
   "execution_count": null,
   "metadata": {
    "colab": {
     "base_uri": "https://localhost:8080/",
     "height": 612
    },
    "id": "mGR1ZMnciedh",
    "outputId": "6f2d8ba0-b1c2-4168-ae93-9a95f9de2177"
   },
   "outputs": [],
   "source": [
    "im2disp = plt.imread('data/home.jpg')\n",
    "\n",
    "blurred = cv2.GaussianBlur(im2disp, (19, 19), 0)\n",
    "\n",
    "plt.figure()\n",
    "plt.imshow(blurred);"
   ]
  },
  {
   "cell_type": "markdown",
   "metadata": {
    "id": "9bVsT0XPzc2c"
   },
   "source": [
    "A more general method"
   ]
  },
  {
   "cell_type": "code",
   "execution_count": null,
   "metadata": {
    "colab": {
     "base_uri": "https://localhost:8080/",
     "height": 612
    },
    "id": "Lx87vDQWzYoU",
    "outputId": "0f644b9e-01c8-4c31-cbfc-397ef2663bc8"
   },
   "outputs": [],
   "source": [
    "kernel = np.ones((19, 19), np.float32) / (19*19)\n",
    "blurred2 = cv2.filter2D(im2disp, -1, kernel)\n",
    "\n",
    "plt.figure()\n",
    "plt.imshow(blurred2);"
   ]
  },
  {
   "cell_type": "markdown",
   "metadata": {
    "id": "WP1p4klHiedh",
    "nbpresent": {
     "id": "0b2b252f-dc8d-46b3-865c-d91e5a67ed6a"
    }
   },
   "source": [
    "### Saving an image"
   ]
  },
  {
   "cell_type": "code",
   "execution_count": null,
   "metadata": {
    "id": "J2tpyQnliedh",
    "nbpresent": {
     "id": "b580a43e-03cd-4fdc-8f0d-e69653969251"
    }
   },
   "outputs": [],
   "source": [
    "cv2.imwrite('mycvimage.png', cvim2disp)\n",
    "#or\n",
    "plt.imsave('myimage.png', im2disp)"
   ]
  },
  {
   "cell_type": "markdown",
   "metadata": {
    "id": "1ELx8lrWiedh",
    "nbpresent": {
     "id": "1501269c-2107-40a8-a8ab-d46443c5c133"
    }
   },
   "source": [
    "### Bonus: 1 numpy gotcha for people coming from Matlab"
   ]
  },
  {
   "cell_type": "code",
   "execution_count": null,
   "metadata": {
    "colab": {
     "base_uri": "https://localhost:8080/"
    },
    "id": "GYarZXEciedi",
    "nbpresent": {
     "id": "1aee9993-9a16-4053-bfc8-e97ea1fabbdb"
    },
    "outputId": "6c22bf14-dcc1-4b69-ba70-731e188986ff"
   },
   "outputs": [],
   "source": [
    "x = np.zeros(5)\n",
    "y = x\n",
    "\n",
    "y[1] = 1\n",
    "\n",
    "x"
   ]
  },
  {
   "cell_type": "markdown",
   "metadata": {
    "id": "IaRV0VCGiedi",
    "nbpresent": {
     "id": "0f618461-e7ba-41e3-9416-e70fd18e03d5"
    }
   },
   "source": [
    "**What happened? Why did modifying y change x?**\n",
    "\n",
    "A: Python copies arrays and other mutable data types by reference by default\n",
    "\n",
    "Here's what you probably want:"
   ]
  },
  {
   "cell_type": "code",
   "execution_count": null,
   "metadata": {
    "colab": {
     "base_uri": "https://localhost:8080/"
    },
    "id": "GP2ZmwYHiedi",
    "nbpresent": {
     "id": "285b7d68-b953-4b9e-8095-9e28a454adee"
    },
    "outputId": "4dc0621b-b567-4320-b5d2-9e8543c85c4f"
   },
   "outputs": [],
   "source": [
    "x = np.zeros(5)\n",
    "y = x.copy()\n",
    "\n",
    "y[1] = 1\n",
    "\n",
    "x"
   ]
  },
  {
   "cell_type": "markdown",
   "metadata": {
    "id": "F096nAepilBS"
   },
   "source": [
    "##Essential Numpy for OpenCV image work"
   ]
  },
  {
   "cell_type": "markdown",
   "metadata": {
    "id": "kFPvDDLD5gMD"
   },
   "source": [
    "Let's load a nice picture"
   ]
  },
  {
   "cell_type": "code",
   "execution_count": null,
   "metadata": {
    "colab": {
     "base_uri": "https://localhost:8080/",
     "height": 612
    },
    "id": "ak7WYGJuilBW",
    "outputId": "43ae3d8b-7122-402b-8f06-2c155ff5283d"
   },
   "outputs": [],
   "source": [
    "bfly = plt.imread('data/butterfly.jpg')\n",
    "\n",
    "plt.figure()\n",
    "plt.imshow(bfly);"
   ]
  },
  {
   "cell_type": "markdown",
   "metadata": {
    "id": "NmELboI15wGz"
   },
   "source": [
    "Many algorithms operate on grayscale, and grayscale is easier to work on"
   ]
  },
  {
   "cell_type": "code",
   "execution_count": null,
   "metadata": {
    "colab": {
     "base_uri": "https://localhost:8080/",
     "height": 612
    },
    "id": "uFY_T9S1ilBW",
    "outputId": "cbbd76ce-1a8b-496d-db1c-cf99358f422f"
   },
   "outputs": [],
   "source": [
    "bflygray = cv2.cvtColor(bfly, cv2.COLOR_BGR2GRAY)\n",
    "\n",
    "plt.figure()\n",
    "plt.imshow(bflygray);"
   ]
  },
  {
   "cell_type": "markdown",
   "metadata": {
    "id": "UxfQYB1J55i8"
   },
   "source": [
    "You may or may not want the default rainbow map"
   ]
  },
  {
   "cell_type": "code",
   "execution_count": null,
   "metadata": {
    "colab": {
     "base_uri": "https://localhost:8080/",
     "height": 612
    },
    "id": "un613MaXilBX",
    "outputId": "388b489a-8c93-43bc-ac88-e641956c2c17"
   },
   "outputs": [],
   "source": [
    "plt.figure()\n",
    "plt.imshow(bflygray, cmap='gray');"
   ]
  },
  {
   "cell_type": "markdown",
   "metadata": {
    "id": "q41SsnL95_uy"
   },
   "source": [
    "Let's make sure we understand our data"
   ]
  },
  {
   "cell_type": "code",
   "execution_count": null,
   "metadata": {
    "colab": {
     "base_uri": "https://localhost:8080/"
    },
    "id": "ykzAzFJwilBY",
    "outputId": "8d6490db-21ce-470a-e57d-32ea6db95eec"
   },
   "outputs": [],
   "source": [
    "print(bfly.shape)\n",
    "print(bflygray.shape)"
   ]
  },
  {
   "cell_type": "markdown",
   "metadata": {
    "id": "kyzT2iCXilBZ"
   },
   "source": [
    "The format above is (height, width, numchannels):\n",
    "\n",
    "* If numchannels = 1, as is for grayscale, it is omitted\n",
    "\n",
    "* For RGB/BGR/HSV color images, numchannels=3\n",
    "\n",
    "* You could have numchannels=4; this happens for RGBA (Red, Green, Blue, Alpha) images, where Alpha is transparency\n",
    "  * transparent = 0\n",
    "  * opaque = 1.0 or 255 (depending on your datatype)"
   ]
  },
  {
   "cell_type": "markdown",
   "metadata": {
    "id": "-nP6toVz7Fc0"
   },
   "source": [
    "Also remember how to get the data type"
   ]
  },
  {
   "cell_type": "code",
   "execution_count": null,
   "metadata": {
    "colab": {
     "base_uri": "https://localhost:8080/"
    },
    "id": "rT7NIjhCilBZ",
    "outputId": "75886c1e-f0b1-4900-f943-dc30b563e45e"
   },
   "outputs": [],
   "source": [
    "bfly.dtype"
   ]
  },
  {
   "cell_type": "markdown",
   "metadata": {
    "id": "ee4T2aTU7LO2"
   },
   "source": [
    "uint8, which means integers in the 0-255 range, is standard for everyday camera images\n",
    "\n",
    "For scientific purposes, floating point is often used. We typically want these in the 0-1 range:"
   ]
  },
  {
   "cell_type": "code",
   "execution_count": null,
   "metadata": {
    "colab": {
     "base_uri": "https://localhost:8080/"
    },
    "id": "Pb-ozHzfilBZ",
    "outputId": "7a52be41-0a03-41ce-c49c-3e6512836f80"
   },
   "outputs": [],
   "source": [
    "bflyfloat = bflygray.astype(np.double) / 255.0\n",
    "\n",
    "bflyfloat.dtype"
   ]
  },
  {
   "cell_type": "markdown",
   "metadata": {
    "id": "w0GfBchj7i8j"
   },
   "source": [
    "Going back to dimensions, how do we get the image width and height in convenient variables?"
   ]
  },
  {
   "cell_type": "code",
   "execution_count": null,
   "metadata": {
    "colab": {
     "base_uri": "https://localhost:8080/"
    },
    "id": "UuFItKr9ilBa",
    "outputId": "7dacb20d-4ce6-42a8-92ea-ab4e8bec3ce9"
   },
   "outputs": [],
   "source": [
    "height, width = bflygray.shape[0:2]\n",
    "\n",
    "height, width"
   ]
  },
  {
   "cell_type": "markdown",
   "metadata": {
    "id": "YC_WdQl07wEp"
   },
   "source": [
    "**Always remember that the y dimension comes first**\n",
    "\n",
    "=> height is before width\n",
    "\n",
    "**When indexing, [0:2] is only 0 and 1, not 0,1,2**\n",
    "\n",
    "Python uses a 0:N-1 convention, which is handy when you get used to it, but can trip up newcomers\n",
    "\n",
    "**What would you expect the following to do?**"
   ]
  },
  {
   "cell_type": "code",
   "execution_count": null,
   "metadata": {
    "colab": {
     "base_uri": "https://localhost:8080/"
    },
    "id": "iWIKdx9UilBa",
    "outputId": "16eac755-3c5b-4fdc-da16-a7862174d350"
   },
   "outputs": [],
   "source": [
    "print(np.arange(5))"
   ]
  },
  {
   "cell_type": "markdown",
   "metadata": {
    "id": "y4RHCF9X8Q7x"
   },
   "source": [
    "Also, you might see something like this in people's code"
   ]
  },
  {
   "cell_type": "code",
   "execution_count": null,
   "metadata": {
    "colab": {
     "base_uri": "https://localhost:8080/"
    },
    "id": "p70ue4D5ilBb",
    "outputId": "25c6f1a4-89fc-4641-dc90-b5ec4777b81a"
   },
   "outputs": [],
   "source": [
    "height, width = bflygray.shape[:2]\n",
    "\n",
    "height, width"
   ]
  },
  {
   "cell_type": "markdown",
   "metadata": {
    "id": "HqRG6kdT8XW7"
   },
   "source": [
    "It works just the same; when you leave an index blank, it's assumed to be the first or last element, depending on whether it's on the left or right of the : char"
   ]
  },
  {
   "cell_type": "code",
   "execution_count": null,
   "metadata": {
    "colab": {
     "base_uri": "https://localhost:8080/"
    },
    "id": "Nl5JXILVilBc",
    "outputId": "eb304eb3-a05a-4236-824b-e53f7217d2a3"
   },
   "outputs": [],
   "source": [
    "bfly.shape[:]"
   ]
  },
  {
   "cell_type": "markdown",
   "metadata": {
    "id": "K4d3u4jg8ftE"
   },
   "source": [
    "Also useful to know how to access the last, second to last etc elements"
   ]
  },
  {
   "cell_type": "code",
   "execution_count": null,
   "metadata": {
    "colab": {
     "base_uri": "https://localhost:8080/"
    },
    "id": "AZh08dNnilBc",
    "outputId": "de7a4c93-ab7b-4cf5-ac57-213cd3d5e982"
   },
   "outputs": [],
   "source": [
    "print(bfly.shape[-1])\n",
    "print(bfly.shape[-2])\n",
    "print(bfly.shape[-3])"
   ]
  },
  {
   "cell_type": "markdown",
   "metadata": {
    "id": "gNfvBfjw8lRk"
   },
   "source": [
    "You can probably guess how to extract RGB channels:"
   ]
  },
  {
   "cell_type": "code",
   "execution_count": null,
   "metadata": {
    "id": "P5pnWUZrilBc"
   },
   "outputs": [],
   "source": [
    "redc = bfly[:, :, 0]\n",
    "greenc = bfly[:, :, 1]\n",
    "bluec = bfly[:, :, 2]"
   ]
  },
  {
   "cell_type": "markdown",
   "metadata": {
    "id": "cc-9-_6c8p46"
   },
   "source": [
    "Note that these will all be singleton in the numchannels dimension"
   ]
  },
  {
   "cell_type": "code",
   "execution_count": null,
   "metadata": {
    "colab": {
     "base_uri": "https://localhost:8080/"
    },
    "id": "I80G4DJnilBc",
    "outputId": "35f624bb-8932-4aa9-d09a-b8572097c5aa"
   },
   "outputs": [],
   "source": [
    "bluec.shape"
   ]
  },
  {
   "cell_type": "markdown",
   "metadata": {
    "id": "LinWJvf38wWJ"
   },
   "source": [
    "**How to recombine?**\n",
    "\n",
    "First create a new blank image of the proper dimensions\n",
    "\n",
    "Be careful that the dimensions are given as a tuple rather than individual arguments"
   ]
  },
  {
   "cell_type": "code",
   "execution_count": null,
   "metadata": {
    "colab": {
     "base_uri": "https://localhost:8080/",
     "height": 612
    },
    "id": "sD8HeQEMilBd",
    "outputId": "358e9c7d-32a1-4042-8560-478ad808321a"
   },
   "outputs": [],
   "source": [
    "combined = np.zeros((height,width,3), np.uint8)\n",
    "\n",
    "combined[:,:,0] = redc\n",
    "combined[:,:,1] = greenc\n",
    "combined[:,:,2] = bluec\n",
    "\n",
    "plt.figure()\n",
    "plt.imshow(combined);"
   ]
  },
  {
   "cell_type": "markdown",
   "metadata": {
    "id": "nBgPSuWI9GLQ"
   },
   "source": [
    "It's easy to extract a region of interest from an image\n",
    "\n",
    "Let's say we want to examine the butterfly's head more closely;\n",
    "\n",
    "We can get a bounding box from the figure above"
   ]
  },
  {
   "cell_type": "code",
   "execution_count": null,
   "metadata": {
    "colab": {
     "base_uri": "https://localhost:8080/",
     "height": 609
    },
    "id": "F_wUTOZBilBd",
    "outputId": "6c20089c-31e3-40eb-8ff5-76f1a906e7e1"
   },
   "outputs": [],
   "source": [
    "bflyhead = bfly[70:100, 210:250]\n",
    "\n",
    "plt.figure()\n",
    "plt.imshow(bflyhead);"
   ]
  },
  {
   "cell_type": "markdown",
   "metadata": {
    "id": "kvoSWaXP9SAC"
   },
   "source": [
    "Writing to pixels is also simple:"
   ]
  },
  {
   "cell_type": "code",
   "execution_count": null,
   "metadata": {
    "colab": {
     "base_uri": "https://localhost:8080/",
     "height": 612
    },
    "id": "eEmhb7gCilBd",
    "outputId": "787a69ad-fdeb-48fb-8b6a-a1c0951d9860"
   },
   "outputs": [],
   "source": [
    "bflyedit = bfly.copy()\n",
    "bflyedit[70:100, 210:250] = 0\n",
    "\n",
    "plt.figure()\n",
    "plt.imshow(bflyedit);"
   ]
  },
  {
   "cell_type": "markdown",
   "metadata": {
    "id": "phzZ67fwilBd"
   },
   "source": [
    "Suggested test-your-knowledge exercises:\n",
    "1.  Take an image and write a big + sign over it (ie two blocks of black pixels; one extending from top to bottom, one from left to right, but not occupying the whole image)\n",
    "2.  Create a function that will take in two images and return an image that combines them into a larger side-by-side image\n",
    "Should be something like\n"
   ]
  },
  {
   "cell_type": "code",
   "execution_count": null,
   "metadata": {
    "colab": {
     "base_uri": "https://localhost:8080/",
     "height": 612
    },
    "id": "fnkJsMxvAcYm",
    "outputId": "a9ed3517-daf6-4ae1-c48c-0fd75bd7c440"
   },
   "outputs": [],
   "source": [
    "bflyedit = bfly.copy()\n",
    "\n",
    "h, w = bflyedit.shape[:2]\n",
    "arm_len = 150\n",
    "arm_width = 30\n",
    "cross_color = (0, 0, 255)\n",
    "\n",
    "bflyedit[h//2 - arm_len:h//2 + arm_len, w//2 - arm_width:w//2 + arm_width] = cross_color\n",
    "bflyedit[h//2 - arm_width:h//2 + arm_width, w//2 - arm_len:w//2 + arm_len] = cross_color\n",
    "\n",
    "plt.figure()\n",
    "plt.imshow(bflyedit);"
   ]
  },
  {
   "cell_type": "code",
   "execution_count": null,
   "metadata": {
    "id": "xUYlqca7ilBe"
   },
   "outputs": [],
   "source": [
    "def sidebyside(imageleft, imageright):\n",
    "    newimheight = max(imageleft.shape[0], imageright.shape[0])\n",
    "    newimwidth = imageleft.shape[1] + imageright.shape[1]\n",
    "    \n",
    "    newim = np.zeros((newimheight, newimwidth, 3), dtype=np.uint8)\n",
    "\n",
    "    newim[:imageleft.shape[0], :imageleft.shape[1]] = imageleft\n",
    "    newim[:imageright.shape[0], -imageright.shape[1]:] = imageright\n",
    "\n",
    "    return newim"
   ]
  },
  {
   "cell_type": "code",
   "execution_count": null,
   "metadata": {
    "colab": {
     "base_uri": "https://localhost:8080/",
     "height": 388
    },
    "id": "EDqhvvEVbPIb",
    "outputId": "78c3f1e6-45d1-47b3-ef5f-ea4d4cbf3e23"
   },
   "outputs": [],
   "source": [
    "twoimgs = sidebyside(bflyedit, cvimrgb)\n",
    "\n",
    "plt.figure()\n",
    "plt.imshow(twoimgs);"
   ]
  },
  {
   "cell_type": "markdown",
   "metadata": {
    "id": "BT6SAGT8-ZtV"
   },
   "source": [
    "### Numpy addition vs OpenCV addition\n",
    "\n",
    "Numpy does modular addition (ie 250+10 = 4, assuming uint8)\n",
    "\n",
    "OpenCV saturates"
   ]
  },
  {
   "cell_type": "code",
   "execution_count": null,
   "metadata": {
    "colab": {
     "base_uri": "https://localhost:8080/"
    },
    "id": "X_Qs16pailBe",
    "outputId": "48f22d57-4d8e-48e3-b5fc-7b2b8d1acfd6"
   },
   "outputs": [],
   "source": [
    "x = np.uint8([250])\n",
    "y = np.uint8([10])\n",
    "\n",
    "cv2.add(x,y)"
   ]
  },
  {
   "cell_type": "markdown",
   "metadata": {
    "id": "QpJ3YODL-r1t"
   },
   "source": [
    "This tends to be what you want for combining images\n",
    "\n",
    "cv2.subtract works similarly\n",
    "\n",
    "Of course, images will have to be the same dimension for addition/subtraction to work\n"
   ]
  },
  {
   "cell_type": "markdown",
   "metadata": {
    "id": "hqduGv-0-0x8"
   },
   "source": [
    "### Image weighted blending"
   ]
  },
  {
   "cell_type": "markdown",
   "metadata": {
    "id": "MZhlZnUq_AMg"
   },
   "source": [
    "Make sure alpha values (or image weights) sum to 1, if you want to \"conserve brightness\"\n",
    "\n",
    "alpha for pic1 = 0.7\n",
    "\n",
    "alpha for pic2 = 1 - 0.7 = 3\n"
   ]
  },
  {
   "cell_type": "code",
   "execution_count": null,
   "metadata": {
    "colab": {
     "base_uri": "https://localhost:8080/",
     "height": 250
    },
    "id": "9MPEumi7-8i6",
    "outputId": "4f114573-7a7c-4f4d-bd45-8c9ea313d5a6"
   },
   "outputs": [],
   "source": [
    "pic1 = plt.imread('data/pic1.png')\n",
    "pic2 = plt.imread('data/pic2.png')\n",
    "\n",
    "dst = cv2.addWeighted(pic1, 0.7, pic2, 0.3, 0)\n",
    "\n",
    "plt.figure()\n",
    "plt.subplot(1,3,1)\n",
    "plt.imshow(pic1)\n",
    "plt.subplot(1,3,2)\n",
    "plt.imshow(pic2)\n",
    "plt.subplot(1,3,3)\n",
    "plt.imshow(dst);"
   ]
  },
  {
   "cell_type": "markdown",
   "metadata": {
    "id": "0qJIQPbgilBe"
   },
   "source": [
    "## Image filtering in OpenCV"
   ]
  },
  {
   "cell_type": "markdown",
   "metadata": {
    "id": "z0zBTHHuilBf"
   },
   "source": [
    "### Lowpass filtering"
   ]
  },
  {
   "cell_type": "code",
   "execution_count": null,
   "metadata": {
    "colab": {
     "base_uri": "https://localhost:8080/",
     "height": 321
    },
    "id": "jDBwx6vGilBf",
    "outputId": "b0d00772-80bc-41d2-e658-18e01d88882e"
   },
   "outputs": [],
   "source": [
    "baboon = plt.imread('data/baboon.jpg')\n",
    "babblur = cv2.GaussianBlur(baboon, (29,29), 0)\n",
    "\n",
    "#custom kernel; simple box-car in this case\n",
    "kernel = np.ones((15,15), np.float32)\n",
    "kernel /= kernel.size #normalize kernel so as not to scale image intensity\n",
    "\n",
    "babblur2 = cv2.filter2D(baboon, -1, kernel)\n",
    "\n",
    "plt.figure()\n",
    "plt.subplot(1,3,1)\n",
    "plt.imshow(baboon)\n",
    "plt.title('original')\n",
    "plt.subplot(1,3,2)\n",
    "plt.imshow(babblur)\n",
    "plt.title('Gaussian blurred')\n",
    "plt.subplot(1,3,3)\n",
    "plt.imshow(babblur2)\n",
    "plt.title('Box-car blurred')"
   ]
  },
  {
   "cell_type": "markdown",
   "metadata": {
    "id": "RXtulbgjAvnA"
   },
   "source": [
    "Filter2D is very general and can do many different things; with the right kernel\n",
    "\n",
    "You can just as easily do high-pass filtering"
   ]
  },
  {
   "cell_type": "markdown",
   "metadata": {
    "id": "N2DiLLw_A2y6"
   },
   "source": [
    "### Median blurring\n",
    "\n",
    "Smoothing filter while preserving edges"
   ]
  },
  {
   "cell_type": "code",
   "execution_count": null,
   "metadata": {
    "colab": {
     "base_uri": "https://localhost:8080/",
     "height": 600
    },
    "id": "at8pf5U0ilBf",
    "outputId": "5614704a-e50e-41a7-804e-9bb119c64541"
   },
   "outputs": [],
   "source": [
    "t = np.linspace(-1.0,1,1000)\n",
    "y =  200* (np.exp(-(t/0.3)**20)  )\n",
    "yn = y + 200*np.random.normal(scale=0.01,size=t.shape)\n",
    "yn[yn<0]=0\n",
    "y = y.astype(np.uint8)\n",
    "yn = yn.astype(np.uint8)\n",
    "\n",
    "plt.figure()\n",
    "plt.plot(t, y)\n",
    " \n",
    "plt.plot(t, yn)\n",
    " \n",
    "ygb = cv2.GaussianBlur(y,(199,199),0)\n",
    "plt.plot(t, ygb)\n",
    " \n",
    "ymb = cv2.medianBlur(y,199)\n",
    "plt.plot(t, ymb)\n",
    "\n",
    "plt.legend(['original', 'w/ noise', 'Gaussian blur', 'Median blur']);"
   ]
  },
  {
   "cell_type": "markdown",
   "metadata": {
    "id": "fZ43OpXFBNLb"
   },
   "source": [
    "Fun demonstration of median-blur to \"cartoonify\" a real image"
   ]
  },
  {
   "cell_type": "code",
   "execution_count": null,
   "metadata": {
    "colab": {
     "base_uri": "https://localhost:8080/",
     "height": 360
    },
    "id": "I2PNsK3SilBf",
    "outputId": "032a1512-05d5-45e7-d3aa-769a64720a24"
   },
   "outputs": [],
   "source": [
    "tulips = plt.imread('data/tulips.jpg')\n",
    "tublur = cv2.medianBlur(tulips, 29)\n",
    "\n",
    "# We'll cover Canny edge detection and dilation shortly\n",
    "edge = cv2.Canny(tublur, 10, 150)\n",
    "kernel = np.ones((5,5), np.uint8)\n",
    "# edge = cv2.dilate(edge, kernel, iterations = 1)\n",
    "tublur[edge==255] = 0\n",
    "\n",
    "plt.figure()\n",
    "\n",
    "plt.subplot(1,3,1)\n",
    "plt.imshow(tulips)\n",
    "plt.title('original')\n",
    "\n",
    "plt.subplot(1,3,2)\n",
    "plt.imshow(edge)\n",
    "plt.title('edge')\n",
    "\n",
    "plt.subplot(1,3,3)\n",
    "plt.imshow(tublur)\n",
    "plt.title('cartoonified');"
   ]
  },
  {
   "cell_type": "markdown",
   "metadata": {
    "id": "WlK3qVNfilBg"
   },
   "source": [
    "### Highpass filtering and edge-detection"
   ]
  },
  {
   "cell_type": "markdown",
   "metadata": {
    "id": "fXr0Fl9CilBg"
   },
   "source": [
    "<img src=\"https://upload.wikimedia.org/wikipedia/commons/thumb/2/20/%C3%84%C3%A4retuvastuse_n%C3%A4ide.png/500px-%C3%84%C3%A4retuvastuse_n%C3%A4ide.png\">"
   ]
  },
  {
   "cell_type": "markdown",
   "metadata": {
    "id": "bAbsP9B_Bxjk"
   },
   "source": [
    "Basic high-pass filtering example\n",
    "\n",
    "High-pass filtering responds to derivatives, or spatial changes in images"
   ]
  },
  {
   "cell_type": "code",
   "execution_count": null,
   "metadata": {
    "colab": {
     "base_uri": "https://localhost:8080/",
     "height": 594
    },
    "id": "i-0_L4AJilBg",
    "outputId": "e4e3f5ab-b73b-4fcf-fade-d34054012a11"
   },
   "outputs": [],
   "source": [
    "img = cv2.imread('data/sudokubig.jpg', cv2.IMREAD_GRAYSCALE)\n",
    " \n",
    "laplacian = cv2.Laplacian(img, cv2.CV_64F)\n",
    "sobelx = cv2.Sobel(img, cv2.CV_64F, 1, 0, ksize=5)\n",
    "sobely = cv2.Sobel(img, cv2.CV_64F, 0, 1, ksize=5)\n",
    " \n",
    "plt.figure()\n",
    "\n",
    "plt.subplot(2,2,1)\n",
    "plt.imshow(img, cmap='gray')\n",
    "plt.title('Original'), plt.xticks([]), plt.yticks([])\n",
    "\n",
    "plt.subplot(2,2,2)\n",
    "plt.imshow(laplacian, cmap='gray')\n",
    "plt.title('Laplacian')\n",
    "plt.xticks([])\n",
    "plt.yticks([])\n",
    "plt.clim([0, 45])\n",
    "\n",
    "plt.subplot(2,2,3)\n",
    "plt.imshow(sobelx, cmap='gray')\n",
    "plt.title('Sobel X')\n",
    "plt.xticks([])\n",
    "plt.yticks([])\n",
    "plt.clim([0, 4500])\n",
    "\n",
    "plt.subplot(2,2,4)\n",
    "plt.imshow(sobely, cmap='gray')\n",
    "plt.title('Sobel Y')\n",
    "plt.xticks([])\n",
    "plt.yticks([])\n",
    "plt.clim([0, 4500])"
   ]
  },
  {
   "cell_type": "markdown",
   "metadata": {
    "id": "HOPALQrHEP0R"
   },
   "source": [
    "### Canny edge detection\n",
    "\n",
    "Read about the theory here:\n",
    "\n",
    "https://docs.opencv.org/4.0.0/da/d22/tutorial_py_canny.html"
   ]
  },
  {
   "cell_type": "code",
   "execution_count": null,
   "metadata": {
    "colab": {
     "base_uri": "https://localhost:8080/",
     "height": 314
    },
    "id": "IpQLiA7YilBg",
    "outputId": "e6c8524c-7c3f-46a5-a69e-05897bce1904"
   },
   "outputs": [],
   "source": [
    "img = cv2.imread('data/messi.jpg', cv2.IMREAD_GRAYSCALE)\n",
    "edge = cv2.Canny(img, 100, 200)\n",
    " \n",
    "plt.figure()\n",
    "\n",
    "plt.subplot(121)\n",
    "plt.title('Original Image')\n",
    "plt.imshow(img, cmap='gray')\n",
    "\n",
    "plt.subplot(122)\n",
    "plt.title('Edge Image')\n",
    "plt.imshow(edge, cmap='gray')"
   ]
  },
  {
   "cell_type": "markdown",
   "metadata": {
    "id": "chlnkcdwilBg"
   },
   "source": [
    "### Morphological Operations\n",
    "\n",
    "Modifying binary masks\n",
    "\n",
    "Read about the different operations here:\n",
    "\n",
    "https://docs.opencv.org/4.0.0/d9/d61/tutorial_py_morphological_ops.html#gsc.tab=0"
   ]
  },
  {
   "cell_type": "code",
   "execution_count": null,
   "metadata": {
    "colab": {
     "base_uri": "https://localhost:8080/",
     "height": 260
    },
    "id": "KJJUXnMsilBh",
    "outputId": "14ca0cdc-106e-4e33-9b18-1f4c7bf9e437",
    "scrolled": false
   },
   "outputs": [],
   "source": [
    "# Create a doughnut/circle image/mask of 0's and 1's\n",
    "yy=np.mgrid[-1:1:0.01,-1:1:0.01][0]\n",
    "xx=yy.T\n",
    "circ = 0*xx\n",
    "circ [xx**2+yy**2 < 0.5**2 ]=1\n",
    "circ [xx**2+yy**2 < 0.2**2 ]=0\n",
    " \n",
    "# Many different kernel types depending on application\n",
    "# Let's just stick with a simple box kernel\n",
    "kernel = np.ones((10,10), np.float32)\n",
    "\n",
    "# Now let's try the some of the different morphological operations\n",
    "erosion = cv2.erode(circ, kernel, iterations=1)\n",
    "\n",
    "dilation = cv2.dilate(circ, kernel, iterations=1)\n",
    "\n",
    "floodfilled = cv2.floodFill(image=circ.astype(np.uint8).copy(), mask=None, seedPoint=(100,100), newVal=1)\n",
    " \n",
    "plt.figure()\n",
    "\n",
    "plt.subplot(1,4,1)\n",
    "plt.title('doughnut')\n",
    "plt.imshow(circ, cmap='gray')\n",
    "\n",
    "plt.subplot(1,4,2)\n",
    "plt.title('eroded')\n",
    "plt.imshow(erosion, cmap='gray')\n",
    "\n",
    "plt.subplot(1,4,3)\n",
    "plt.title('dilated')\n",
    "plt.imshow(dilation, cmap='gray')\n",
    "\n",
    "plt.subplot(1,4,4)\n",
    "plt.title('flood-filled')\n",
    "plt.imshow(floodfilled[1].astype(np.float32), cmap='gray');"
   ]
  },
  {
   "cell_type": "markdown",
   "metadata": {
    "id": "qIvZzX3milBh"
   },
   "source": [
    "### Adaptive Thresholding\n",
    "\n",
    "Compare hard thresholding to adaptive thresholding"
   ]
  },
  {
   "cell_type": "code",
   "execution_count": null,
   "metadata": {
    "colab": {
     "base_uri": "https://localhost:8080/",
     "height": 594
    },
    "id": "oHjdsiBeilBi",
    "outputId": "06f92249-82b0-438a-db51-46eca8e9749c"
   },
   "outputs": [],
   "source": [
    "img = cv2.imread('data/sudokubig.jpg', cv2.IMREAD_GRAYSCALE)\n",
    "img = cv2.medianBlur(img, 5)\n",
    "\n",
    "ret, th1 = cv2.threshold(img, 127, 255, cv2.THRESH_BINARY)\n",
    "th2 = cv2.adaptiveThreshold(img, 255, cv2.ADAPTIVE_THRESH_MEAN_C, cv2.THRESH_BINARY, 11, 2)\n",
    "th3 = cv2.adaptiveThreshold(img, 255, cv2.ADAPTIVE_THRESH_GAUSSIAN_C, cv2.THRESH_BINARY, 11, 2)\n",
    " \n",
    "titles = ['Original Image', 'Global Thresholding (v = 127)',\n",
    "            'Adaptive Mean Thresholding', 'Adaptive Gaussian Thresholding']\n",
    "images = [img, th1, th2, th3]\n",
    "\n",
    "plt.figure()\n",
    "for i, (title, image) in enumerate(zip(titles, images)):\n",
    "    plt.subplot(2,2,i+1)\n",
    "    plt.imshow(image, cmap='gray')\n",
    "    plt.title(title)\n",
    "    plt.xticks([])\n",
    "    plt.yticks([])"
   ]
  },
  {
   "cell_type": "code",
   "execution_count": null,
   "metadata": {},
   "outputs": [],
   "source": [
    "\n"
   ]
  },
  {
   "cell_type": "markdown",
   "metadata": {},
   "source": [
    "## Jouer avec la caméra"
   ]
  },
  {
   "cell_type": "markdown",
   "metadata": {},
   "source": [
    "https://webcamtoy.com/"
   ]
  },
  {
   "cell_type": "code",
   "execution_count": null,
   "metadata": {},
   "outputs": [],
   "source": [
    "!ls -l /dev/video*"
   ]
  },
  {
   "cell_type": "code",
   "execution_count": null,
   "metadata": {},
   "outputs": [],
   "source": [
    "#!mplayer tv:// -tv driver=v4l2:device=/dev/video0"
   ]
  },
  {
   "cell_type": "markdown",
   "metadata": {},
   "source": [
    "### Mes fonctions"
   ]
  },
  {
   "cell_type": "code",
   "execution_count": null,
   "metadata": {},
   "outputs": [],
   "source": [
    "import cv2\n",
    "import numpy as np\n",
    "import matplotlib.pyplot as plt\n",
    "import acv_functions"
   ]
  },
  {
   "cell_type": "code",
   "execution_count": null,
   "metadata": {},
   "outputs": [],
   "source": [
    "def sidebyside(imageleft, imageright):\n",
    "    '''\n",
    "\n",
    "    '''    \n",
    "    newimheight = max(imageleft.shape[0], imageright.shape[0])\n",
    "    newimwidth = imageleft.shape[1] + imageright.shape[1]\n",
    "    \n",
    "    newim = np.zeros((newimheight, newimwidth, 3), dtype=np.uint8)\n",
    "\n",
    "    newim[:imageleft.shape[0], :imageleft.shape[1]] = imageleft\n",
    "    newim[:imageright.shape[0], -imageright.shape[1]:] = imageright\n",
    "\n",
    "    return newim"
   ]
  },
  {
   "cell_type": "code",
   "execution_count": null,
   "metadata": {},
   "outputs": [],
   "source": [
    "def myMirror(frame, percentage=50):\n",
    "    '''\n",
    "\n",
    "    '''\n",
    "    cropped = img_test[:int(frame.shape[0]), :int(frame.shape[1]*percentage / 100)]\n",
    "    flipped = np.fliplr(cropped)\n",
    "    mirror = sidebyside(cropped, flipped)\n",
    "\n",
    "    return mirror"
   ]
  },
  {
   "cell_type": "code",
   "execution_count": null,
   "metadata": {},
   "outputs": [],
   "source": [
    "# img_test = cv2.imread('data/messi.jpg')\n",
    "# cv2.imshow('frame',myMirror(img_test, 50))\n",
    "# cv2.waitKey(0)\n",
    "# cv2.destroyAllWindows()"
   ]
  },
  {
   "cell_type": "code",
   "execution_count": null,
   "metadata": {},
   "outputs": [],
   "source": [
    "def myDividedCam(frame, nb=4, carre=True, complete=True):\n",
    "    '''\n",
    "\n",
    "    '''\n",
    "    if carre==True:\n",
    "        nb_in_width = int(np.ceil(np.sqrt(nb)))\n",
    "        nb_in_height = int(np.ceil(np.sqrt(nb)))\n",
    "    else:\n",
    "        nb_in_height = int(np.floor(np.sqrt(nb)))\n",
    "        nb_in_width = int(np.ceil(nb/nb_in_height))\n",
    "        \n",
    "    print(nb_in_width, nb_in_height)\n",
    "\n",
    "    width = int(frame.shape[1]/nb_in_width)\n",
    "    height = int(frame.shape[0]/nb_in_height)\n",
    "    dim = (width, height)\n",
    "\n",
    "    resized = cv2.resize(frame, dim, interpolation = cv2.INTER_AREA)\n",
    "\n",
    "    newim = np.zeros((frame.shape[0], frame.shape[1], 3), dtype=np.uint8)\n",
    "    count=0\n",
    "    for i in range(1,nb_in_height +1):\n",
    "        for j in range(1,nb_in_width +1):\n",
    "            if (complete==False and count < nb) or (complete==True):\n",
    "                count+=1\n",
    "                # newim[height*(i-1):height*(i), width*(j-1):width*(j)] = myPopart1(resized, 90, 150)\n",
    "                newim[height*(i-1):height*(i), width*(j-1):width*(j)] = myPopart2(resized,\n",
    "                                                                                  col1 = np.array([int(255/i), 0, int(255/j)], dtype=np.uint8),\n",
    "                                                                                  col2 = np.array([int(255/j), int(255/i), 0], dtype=np.uint8),\n",
    "                                                                                  th1=100, th2=135)\n",
    "    return newim"
   ]
  },
  {
   "cell_type": "code",
   "execution_count": null,
   "metadata": {},
   "outputs": [],
   "source": [
    "# img_test = cv2.imread('data/messi.jpg')\n",
    "# cv2.imshow('frame',myDividedCam(img_test, nb=9, carre=False, complete=False))\n",
    "# cv2.waitKey(0)\n",
    "# cv2.destroyAllWindows()"
   ]
  },
  {
   "cell_type": "code",
   "execution_count": null,
   "metadata": {},
   "outputs": [],
   "source": [
    "def myPopart1(frame, th1=80, th2=120):\n",
    "    '''\n",
    "    \n",
    "    '''\n",
    "    gray = cv2.cvtColor(frame, cv2.COLOR_BGR2GRAY)\n",
    "    \n",
    "#     red = np.array([255, 0, 0], dtype=np.uint8)\n",
    "#     red_pixel = red[np.newaxis, np.newaxis, :]\n",
    "\n",
    "#     blue = np.array([0, 0, 255], dtype=np.uint8)\n",
    "#     blue_pixel = blue[np.newaxis, np.newaxis, :]\n",
    "\n",
    "#     green = np.array([0, 255, 0], dtype=np.uint8)\n",
    "#     green_pixel = green[np.newaxis, np.newaxis, :]\n",
    "\n",
    "\n",
    "    random_color_1=np.array(list(np.random.choice(range(255),size=3)), \n",
    "                            dtype=np.uint8)\n",
    "    couleur1_pixel = random_color_1[np.newaxis, np.newaxis, :]\n",
    "    \n",
    "    random_color_2=np.array(list(np.random.choice(range(255),size=3)), \n",
    "                            dtype=np.uint8)\n",
    "    couleur2_pixel = random_color_2[np.newaxis, np.newaxis, :]    \n",
    "\n",
    "    colored_mask = (gray>th2)[:, :, np.newaxis] * couleur1_pixel \\\n",
    "                    + ((gray>th1) & (gray<th2))[:, :, np.newaxis] * couleur2_pixel\n",
    "\n",
    "    return colored_mask"
   ]
  },
  {
   "cell_type": "code",
   "execution_count": null,
   "metadata": {},
   "outputs": [],
   "source": [
    "# img_test = cv2.imread('data/messi.jpg')\n",
    "# cv2.imshow('frame', myPopart1(img_test))\n",
    "# cv2.waitKey(0)\n",
    "# cv2.destroyAllWindows()"
   ]
  },
  {
   "cell_type": "code",
   "execution_count": null,
   "metadata": {},
   "outputs": [],
   "source": [
    "def myPopart2(frame, col1 = np.array([255, 0, 0], dtype=np.uint8), col2=np.array([0, 0, 255], dtype=np.uint8), th1=90, th2=140):\n",
    "    '''\n",
    "    \n",
    "    '''\n",
    "    gray = cv2.cvtColor(frame, cv2.COLOR_BGR2GRAY)\n",
    "\n",
    "\n",
    "    couleur1_pixel = col1[np.newaxis, np.newaxis, :]\n",
    "    couleur2_pixel = col2[np.newaxis, np.newaxis, :]\n",
    "    \n",
    "    mask1 = gray>th2\n",
    "    mask2 = (th1<gray) & (gray<th2)\n",
    "\n",
    "    colored_mask = (mask1)[:, :, np.newaxis] * couleur1_pixel \\\n",
    "                    + (mask2)[:, :, np.newaxis] * couleur2_pixel\n",
    "\n",
    "    return colored_mask"
   ]
  },
  {
   "cell_type": "code",
   "execution_count": null,
   "metadata": {},
   "outputs": [],
   "source": [
    "# img_test = cv2.imread('data/messi.jpg')\n",
    "# cv2.imshow('frame', myPopart2(img_test))\n",
    "# cv2.waitKey(0)\n",
    "# cv2.destroyAllWindows()"
   ]
  },
  {
   "cell_type": "code",
   "execution_count": null,
   "metadata": {},
   "outputs": [],
   "source": [
    "def myPopart3(frame):\n",
    "    '''\n",
    "    à faire...\n",
    "    '''\n",
    "    \n",
    "    gray = cv2.cvtColor(frame, cv2.COLOR_BGR2GRAY)\n",
    "\n",
    "    # gray = cv2.imread(\"threshold.png\", cv2.IMREAD_GRAYSCALE)\n",
    "\n",
    "    # Set threshold and maxValue\n",
    "    thresh = 100\n",
    "    maxValue = 200\n",
    "\n",
    "    # Basic threshold example\n",
    "    th, dst = cv2.threshold(gray, thresh, maxValue, cv2.THRESH_BINARY);\n",
    "\n",
    "\n",
    "    frame = cv2.imread('data/messi.jpg')\n",
    "\n",
    "    \n",
    "    \n",
    "    \n",
    "    gray = cv2.cvtColor(frame, cv2.COLOR_BGR2GRAY)\n",
    "\n",
    "    threshold1=100\n",
    "    threshold2=180\n",
    "    maxValue = 255\n",
    "\n",
    "    threshold, thresh1 = cv2.threshold(gray, threshold1, maxValue, cv2.THRESH_BINARY_INV)\n",
    "    print(thresh1)\n",
    "    threshold, thresh2 = cv2.threshold(gray, threshold2, maxValue, cv2.THRESH_BINARY_INV)\n",
    "\n",
    "\n",
    "    img_background = np.ones(frame.shape)\n",
    "    img_background[:,:,0]=\n",
    "    img_background[:,:,1]=\n",
    "    img_background[:,:,0]=\n",
    "\n",
    "    img_result_1=np.ones(frame.shape)*255 #set all to 255\n",
    "    img_result_1[:,:,0]=thresh1[:,:]       #set red channel to threshold\n",
    "    img_result_1[:,:,2]=thresh1[:,:]       #set blue channel to threshold\n",
    "\n",
    "\n",
    "    img_result_2=np.ones(frame.shape)*255 #set all to 255\n",
    "    img_result_2[:,:,1]=thresh2[:,:]       #set green channel to threshold\n",
    "    img_result_2[:,:,2]=thresh2[:,:]       #set blue channel to threshold\n",
    "\n",
    "\n",
    "    # img_result=np.ones(frame.shape)*255 #set all to 255\n",
    "\n",
    "    cv2.imshow(\"Resized image\", img_result_1)\n",
    "    cv2.waitKey(0)\n",
    "    cv2.destroyAllWindows()\n",
    "    \n",
    "    \n",
    "    return dst\n",
    "    \n",
    "    \n",
    "    \n",
    "frame = cv2.imread('data/messi.jpg')\n",
    "\n",
    "cv2.imshow('frame', myPopart3(frame))\n",
    "cv2.waitKey(0)\n",
    "cv2.destroyAllWindows()"
   ]
  },
  {
   "cell_type": "code",
   "execution_count": null,
   "metadata": {},
   "outputs": [],
   "source": []
  },
  {
   "cell_type": "code",
   "execution_count": null,
   "metadata": {},
   "outputs": [],
   "source": [
    "# kaléidoscope\n",
    "cap = cv.VideoCapture(0)\n",
    "cap.set(cv2.CAP_PROP_FRAME_WIDTH, 700)\n",
    "cap.set(cv2.CAP_PROP_FRAME_HEIGHT, 700)\n",
    "while cap.isOpened():\n",
    "    ret, im = cap.read()\n",
    "    if ret:\n",
    "        im_new = im.copy()\n",
    "        rows, cols = im.shape[:2]\n",
    "\n",
    "        tri_corners = np.array([[cols//2, 0], [cols//2, rows//2], [int(cols/2+np.tan(22.5*np.pi/180)*rows/2)-1, 0]], dtype=np.int32)\n",
    "\n",
    "        mask = np.zeros_like(im[:, :])\n",
    "        cv.fillPoly(mask, [tri_corners], (255, 255, 255))\n",
    "\n",
    "        masked = (mask/255 * im).astype('uint8')\n",
    "        mirror = masked + cv.flip(masked, 1)\n",
    "\n",
    "        ims = [mirror]\n",
    "        for theta in range(45, 360, 45):\n",
    "            M = cv2.getRotationMatrix2D((cols/2, rows/2), theta, 1)\n",
    "            ims.append(cv2.warpAffine(mirror, M, (cols, rows), borderMode=cv2.BORDER_TRANSPARENT))\n",
    "\n",
    "        cv.imshow('im', sum(ims))\n",
    "    \n",
    "        k = cv.waitKey(5) & 0xFF\n",
    "        if k == 27:\n",
    "            break\n",
    "    else:\n",
    "        break\n",
    "\n",
    "cap.release()\n",
    "cv.destroyAllWindows()"
   ]
  },
  {
   "cell_type": "code",
   "execution_count": null,
   "metadata": {},
   "outputs": [],
   "source": [
    "# ghost color\n",
    "cv.destroyAllWindows()\n",
    "cap = cv.VideoCapture(0)\n",
    "#_, im_0 = cap.read()\n",
    "# im_R = im_0[:, :, 0]\n",
    "# im_G = im_0[:, :, 1]\n",
    "# im_B = im_0[:, :, 2]\n",
    "count = 0\n",
    "delay = 60\n",
    "frames = list(range(delay))\n",
    "\n",
    "while(1):\n",
    "    _, im = cap.read()\n",
    "    \n",
    "    frames[count%delay] = im\n",
    "    \n",
    "    im_new = im.copy()\n",
    "    if count > delay:\n",
    "        im_new[:, :, 0] = frames[count%delay][:, :, 0]\n",
    "        im_new[:, :, 1] = frames[(count+20)%delay][:, :, 1]\n",
    "        im_new[:, :, 2] = frames[(count+40)%delay][:, :, 2]\n",
    "    \n",
    "    #res = cv.addWeighted()\n",
    "    cv.imshow('im', im_new)\n",
    " \n",
    "    k = cv.waitKey(5) & 0xFF\n",
    "    if k == 27:\n",
    "        break\n",
    "\n",
    "    count += 1\n",
    "\n",
    "cap.release()\n",
    "cv.destroyAllWindows()\n",
    "\n"
   ]
  },
  {
   "cell_type": "markdown",
   "metadata": {},
   "source": [
    "### Mes essais videos"
   ]
  },
  {
   "cell_type": "code",
   "execution_count": null,
   "metadata": {},
   "outputs": [],
   "source": [
    "# # Destroy all the windows\n",
    "# cv2.destroyAllWindows()\n",
    "# # define a video capture object\n",
    "# cap = cv2.VideoCapture(0)\n",
    "# while(1):\n",
    "#     # Take each frame\n",
    "#     _, frame = cap.read()\n",
    "#     # Convert BGR to HSV\n",
    "#     hsv = cv2.cvtColor(frame, cv2.COLOR_BGR2HSV)\n",
    "#     # define range of blue color in HSV\n",
    "#     lower_blue = np.array([110,50,50])\n",
    "#     upper_blue = np.array([130,255,255])\n",
    "#     # Threshold the HSV image to get only blue colors\n",
    "#     mask = cv2.inRange(hsv, lower_blue, upper_blue)\n",
    "#     # Bitwise-AND mask and original image\n",
    "#     res = cv2.bitwise_and(frame,frame, mask= mask)\n",
    "#     cv2.imshow('frame',frame)\n",
    "#     cv2.imshow('mask',mask)\n",
    "#     cv2.imshow('res',res)\n",
    "#     key = cv2.waitKey(5) & 0xFF\n",
    "#     # key = cv2.waitKey(10) \n",
    "#     if key == 27: #ESC key to stop\n",
    "#         break\n",
    "# # Destroy all the windows\n",
    "# cv2.destroyAllWindows()"
   ]
  },
  {
   "cell_type": "code",
   "execution_count": null,
   "metadata": {},
   "outputs": [],
   "source": [
    "# Destroy all the windows\n",
    "cv2.destroyAllWindows()\n",
    "# define a video capture object\n",
    "cap = cv2.VideoCapture(0)\n",
    "while(1):\n",
    "    # Take each frame\n",
    "    _, frame = cap.read()\n",
    "    cv2.imshow('frame',myDividedCam(frame))\n",
    "    key = cv2.waitKey(5) & 0xFF\n",
    "    # key = cv2.waitKey(10) \n",
    "    if key == 27: #ESC key to stop\n",
    "        break\n",
    "# cap.release()        \n",
    "        \n",
    "# Destroy all the windows\n",
    "cv2.destroyAllWindows()"
   ]
  }
 ],
 "metadata": {
  "anaconda-cloud": {},
  "colab": {
   "collapsed_sections": [],
   "name": "ACV_Course_Day1.ipynb",
   "provenance": []
  },
  "kernelspec": {
   "display_name": "Python 3 (ipykernel)",
   "language": "python",
   "name": "python3"
  },
  "language_info": {
   "codemirror_mode": {
    "name": "ipython",
    "version": 3
   },
   "file_extension": ".py",
   "mimetype": "text/x-python",
   "name": "python",
   "nbconvert_exporter": "python",
   "pygments_lexer": "ipython3",
   "version": "3.7.0"
  },
  "nbpresent": {
   "slides": {
    "019925b6-3427-4056-b7b3-037d5ada7af0": {
     "id": "019925b6-3427-4056-b7b3-037d5ada7af0",
     "prev": "884850c7-78aa-4ef5-85aa-78e84e04fcbb",
     "regions": {
      "8e599505-bab1-4ed7-98ae-aa13673ffe1e": {
       "attrs": {
        "height": 0.28205128205128205,
        "width": 0.8,
        "x": 0.1,
        "y": 0.1
       },
       "content": {
        "cell": "912cb702-4e13-45e3-be96-8ca5bb075111",
        "part": "whole"
       },
       "id": "8e599505-bab1-4ed7-98ae-aa13673ffe1e"
      },
      "dc527f95-5ef0-44ac-921f-083f4073e6ab": {
       "attrs": {
        "height": 0.2,
        "width": 0.4,
        "x": 0.5,
        "y": 0.7
       },
       "id": "dc527f95-5ef0-44ac-921f-083f4073e6ab"
      },
      "df98168a-6f2a-425e-8fa4-e23c90fc85fe": {
       "attrs": {
        "height": 0.5008547008547009,
        "width": 0.823076923076923,
        "x": 0.10096153846153846,
        "y": 0.43333333333333335
       },
       "content": {
        "cell": "b6b7891d-3c45-408b-b1e0-9ff049e33104",
        "part": "whole"
       },
       "id": "df98168a-6f2a-425e-8fa4-e23c90fc85fe"
      }
     }
    },
    "0b3bb0d8-7b62-45e2-bdea-56d1ddb07065": {
     "id": "0b3bb0d8-7b62-45e2-bdea-56d1ddb07065",
     "prev": "9fd2fc08-8f31-40b1-9c43-bc006b638a09",
     "regions": {
      "8ffac7cb-51dc-4754-9338-e40e26852937": {
       "attrs": {
        "height": 1,
        "width": 1,
        "x": 0,
        "y": 0
       },
       "content": {
        "cell": "89b2c70c-1b84-4f3f-bf48-713d641d25ce",
        "part": "whole"
       },
       "id": "8ffac7cb-51dc-4754-9338-e40e26852937"
      }
     }
    },
    "3a0e5011-0f74-4bc4-b4dd-84d1602d1e4d": {
     "id": "3a0e5011-0f74-4bc4-b4dd-84d1602d1e4d",
     "prev": "7514c99a-224c-4a85-a967-5195636ae76e",
     "regions": {
      "d37cf75d-0732-4701-8ab1-9cd15bc8e80b": {
       "attrs": {
        "height": 1,
        "width": 1,
        "x": 0,
        "y": 0
       },
       "content": {
        "cell": "7426b6e0-8b90-4847-86b7-9507511d807f",
        "part": "whole"
       },
       "id": "d37cf75d-0732-4701-8ab1-9cd15bc8e80b"
      }
     }
    },
    "6833f6d3-659c-4600-9c08-d89984d9ef0d": {
     "id": "6833f6d3-659c-4600-9c08-d89984d9ef0d",
     "prev": "c640b2e3-23c3-406e-a06e-88bc91506535",
     "regions": {
      "35872901-5898-436f-b3fc-fa00fffe05a9": {
       "attrs": {
        "height": 1,
        "width": 1,
        "x": 0,
        "y": 0
       },
       "content": {
        "cell": "ed398bf3-86cf-4a55-ae1d-c8c9b557ef97",
        "part": "whole"
       },
       "id": "35872901-5898-436f-b3fc-fa00fffe05a9"
      }
     }
    },
    "7514c99a-224c-4a85-a967-5195636ae76e": {
     "id": "7514c99a-224c-4a85-a967-5195636ae76e",
     "prev": "0b3bb0d8-7b62-45e2-bdea-56d1ddb07065",
     "regions": {
      "0a2bd284-d113-4f41-ad11-098bd03ac74f": {
       "attrs": {
        "height": 1,
        "width": 1,
        "x": 0,
        "y": 0
       },
       "content": {
        "cell": "1460f643-a4f5-40e8-b2df-588ccf04bbc6",
        "part": "whole"
       },
       "id": "0a2bd284-d113-4f41-ad11-098bd03ac74f"
      }
     }
    },
    "7d81e3c9-81e7-4c29-8022-538a15107a84": {
     "id": "7d81e3c9-81e7-4c29-8022-538a15107a84",
     "prev": "7fabf334-8dfb-4e29-ae1e-f8f321a75e33",
     "regions": {
      "51efe400-52e5-4e34-8685-83fd3618ff49": {
       "attrs": {
        "height": 1,
        "width": 1,
        "x": 0,
        "y": 0
       },
       "content": {
        "cell": "d3975a40-18ac-4026-8a39-b4157cc21d53",
        "part": "whole"
       },
       "id": "51efe400-52e5-4e34-8685-83fd3618ff49"
      }
     }
    },
    "7df09def-93b5-4d91-b080-6e2fae564ee0": {
     "id": "7df09def-93b5-4d91-b080-6e2fae564ee0",
     "prev": "9d0acc82-b4d0-4258-bfcb-54751095872c",
     "regions": {
      "7dc8ff01-1d4b-45a1-a278-7487ce352e48": {
       "attrs": {
        "height": 0.1675213675213675,
        "width": 0.8,
        "x": 0.1,
        "y": 0.1
       },
       "id": "7dc8ff01-1d4b-45a1-a278-7487ce352e48"
      },
      "d9d4dc18-ef7c-4938-8466-6760ebd8ff61": {
       "attrs": {
        "height": 0.2,
        "width": 0.4,
        "x": 0.5,
        "y": 0.7
       },
       "id": "d9d4dc18-ef7c-4938-8466-6760ebd8ff61"
      },
      "ec757ce9-6955-48e4-8dbb-69c023496362": {
       "attrs": {
        "height": 0.5743589743589743,
        "width": 0.8413461538461539,
        "x": 0.1,
        "y": 0.32564102564102565
       },
       "id": "ec757ce9-6955-48e4-8dbb-69c023496362"
      }
     }
    },
    "7fabf334-8dfb-4e29-ae1e-f8f321a75e33": {
     "id": "7fabf334-8dfb-4e29-ae1e-f8f321a75e33",
     "prev": "ca856989-0a9b-4281-83e3-ded0c06af816",
     "regions": {
      "4a6b784d-7fb4-4034-b9c9-e8e3d49ccbdb": {
       "attrs": {
        "height": 1,
        "width": 1,
        "x": 0,
        "y": 0
       },
       "content": {
        "cell": "a1921d95-f5ce-41d6-b399-9a7c5af9cb3c",
        "part": "whole"
       },
       "id": "4a6b784d-7fb4-4034-b9c9-e8e3d49ccbdb"
      }
     }
    },
    "884850c7-78aa-4ef5-85aa-78e84e04fcbb": {
     "id": "884850c7-78aa-4ef5-85aa-78e84e04fcbb",
     "prev": "6833f6d3-659c-4600-9c08-d89984d9ef0d",
     "regions": {
      "288c0e6a-f3ae-4f67-93b6-8a55e9634db1": {
       "attrs": {
        "height": 0.21025641025641026,
        "width": 0.8,
        "x": 0.1,
        "y": 0.1
       },
       "content": {
        "cell": "7fb97c5e-4092-4e4e-8023-b795f49791da",
        "part": "whole"
       },
       "id": "288c0e6a-f3ae-4f67-93b6-8a55e9634db1"
      },
      "4235e07a-e2e1-494e-aa2e-44cb3bc0908b": {
       "attrs": {
        "height": 0.3606837606837607,
        "width": 0.8,
        "x": 0.1,
        "y": 0.3803418803418803
       },
       "content": {
        "cell": "e0937ba9-ac52-4500-9355-f809320da00f",
        "part": "whole"
       },
       "id": "4235e07a-e2e1-494e-aa2e-44cb3bc0908b"
      },
      "adaea460-ec30-45f6-9737-4561f15e31ee": {
       "attrs": {
        "height": 1,
        "width": 1,
        "x": 0,
        "y": 0
       },
       "id": "adaea460-ec30-45f6-9737-4561f15e31ee"
      }
     }
    },
    "9d0acc82-b4d0-4258-bfcb-54751095872c": {
     "id": "9d0acc82-b4d0-4258-bfcb-54751095872c",
     "prev": "019925b6-3427-4056-b7b3-037d5ada7af0",
     "regions": {
      "781dd65e-f4a6-499c-9faa-ad4ff58b0831": {
       "attrs": {
        "height": 0.14017094017094017,
        "width": 0.8,
        "x": 0.1,
        "y": 0.1
       },
       "content": {
        "cell": "fcdb542e-a920-41f2-9b8b-a6fe3b47f4a4",
        "part": "whole"
       },
       "id": "781dd65e-f4a6-499c-9faa-ad4ff58b0831"
      },
      "b3c79e42-7512-4bfd-b2ae-c80a3e377d75": {
       "attrs": {
        "height": 0.6017094017094017,
        "width": 0.8076923076923077,
        "x": 0.1,
        "y": 0.2982905982905983
       },
       "content": {
        "cell": "ae7b3af1-e0c2-4011-8fb6-ae6794c5dfa9",
        "part": "whole"
       },
       "id": "b3c79e42-7512-4bfd-b2ae-c80a3e377d75"
      },
      "ceb2aead-3ab9-410a-b5f0-1e66ef2f5d9d": {
       "attrs": {
        "height": 0.2,
        "width": 0.4,
        "x": 0.5,
        "y": 0.7
       },
       "id": "ceb2aead-3ab9-410a-b5f0-1e66ef2f5d9d"
      }
     }
    },
    "9fd2fc08-8f31-40b1-9c43-bc006b638a09": {
     "id": "9fd2fc08-8f31-40b1-9c43-bc006b638a09",
     "prev": "eb430d24-2743-4147-b4d8-4dfe9fe354f9",
     "regions": {
      "53c2d421-95f8-4bf5-91ce-2bf61fcf4145": {
       "attrs": {
        "height": 1,
        "width": 1,
        "x": 0,
        "y": 0
       },
       "content": {
        "cell": "213eb2b0-b658-46ce-a72f-215a82c5cc7c",
        "part": "whole"
       },
       "id": "53c2d421-95f8-4bf5-91ce-2bf61fcf4145"
      }
     }
    },
    "c640b2e3-23c3-406e-a06e-88bc91506535": {
     "id": "c640b2e3-23c3-406e-a06e-88bc91506535",
     "prev": "3a0e5011-0f74-4bc4-b4dd-84d1602d1e4d",
     "regions": {
      "79a80fb9-9819-4190-b9a3-b0fe1afa1e25": {
       "attrs": {
        "height": 0.8,
        "width": 0.45,
        "x": 0.5,
        "y": 0.1
       },
       "content": {
        "cell": "15f3fbd2-0e7f-4ceb-93c1-8936cdebed7b",
        "part": "whole"
       },
       "id": "79a80fb9-9819-4190-b9a3-b0fe1afa1e25"
      },
      "e05cb8bc-bd5a-4d46-ae12-98c99fdd9779": {
       "attrs": {
        "height": 0.8,
        "width": 0.45,
        "x": 0.05,
        "y": 0.1
       },
       "content": {
        "cell": "5e1738d7-c5be-46f1-a9b0-9d6644551c9e",
        "part": "whole"
       },
       "id": "e05cb8bc-bd5a-4d46-ae12-98c99fdd9779"
      }
     }
    },
    "ca856989-0a9b-4281-83e3-ded0c06af816": {
     "id": "ca856989-0a9b-4281-83e3-ded0c06af816",
     "prev": null,
     "regions": {
      "1975c898-ce9f-41ab-a66e-8308c8b18983": {
       "attrs": {
        "height": 1,
        "width": 1,
        "x": 0,
        "y": 0
       },
       "content": {
        "cell": "eff3a02c-cf13-4c08-b2b3-df48c676159c",
        "part": "whole"
       },
       "id": "1975c898-ce9f-41ab-a66e-8308c8b18983"
      }
     }
    },
    "eb430d24-2743-4147-b4d8-4dfe9fe354f9": {
     "id": "eb430d24-2743-4147-b4d8-4dfe9fe354f9",
     "prev": "7d81e3c9-81e7-4c29-8022-538a15107a84",
     "regions": {
      "5597e743-7b5e-48e7-beb5-0a93c51dd3ed": {
       "attrs": {
        "height": 1,
        "width": 1,
        "x": 0,
        "y": 0
       },
       "content": {
        "cell": "30af4bd1-d2ec-47ec-bd16-aefe3514f0f1",
        "part": "whole"
       },
       "id": "5597e743-7b5e-48e7-beb5-0a93c51dd3ed"
      }
     }
    }
   },
   "themes": {}
  },
  "toc": {
   "base_numbering": 1,
   "nav_menu": {},
   "number_sections": true,
   "sideBar": true,
   "skip_h1_title": false,
   "title_cell": "Table of Contents",
   "title_sidebar": "Contents",
   "toc_cell": false,
   "toc_position": {
    "height": "calc(100% - 180px)",
    "left": "10px",
    "top": "150px",
    "width": "405px"
   },
   "toc_section_display": true,
   "toc_window_display": true
  }
 },
 "nbformat": 4,
 "nbformat_minor": 1
}
